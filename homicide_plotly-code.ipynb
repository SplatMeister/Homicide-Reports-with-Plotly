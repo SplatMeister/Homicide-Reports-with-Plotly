{
 "cells": [
  {
   "attachments": {},
   "cell_type": "markdown",
   "metadata": {},
   "source": [
    "## Homicide Reports, 1980-2014 Data Visualization\n"
   ]
  },
  {
   "attachments": {},
   "cell_type": "markdown",
   "metadata": {},
   "source": [
    "importing libraries and plotly libraries"
   ]
  },
  {
   "cell_type": "code",
   "execution_count": null,
   "metadata": {},
   "outputs": [],
   "source": [
    "import pandas as pd #Importing Pandas data library to manipulate the data and clean and preprocess the data\n",
    "import plotly.express as px #importing plotless express for quick visualizations\n",
    "import plotly.graph_objects as go #importing graph objects\n",
    "import plotly.figure_factory as ff #importing figure factory "
   ]
  },
  {
   "attachments": {},
   "cell_type": "markdown",
   "metadata": {},
   "source": [
    "Importing the data and checking if any issues with the data\n",
    "\n",
    "https://www.kaggle.com/datasets/murderaccountability/homicide-reports"
   ]
  },
  {
   "cell_type": "code",
   "execution_count": null,
   "metadata": {},
   "outputs": [],
   "source": [
    "df = pd.read_csv('database.csv') #using pandas library to read the import the database and assign to df variable. \n",
    "pd.set_option('display.max_columns', None) #expanding hidden columns\n",
    "df = pd.DataFrame(df) #creating a data frame and assigining to the variable df\n",
    "df.head(5) # displaying the first 5 rows of the df"
   ]
  },
  {
   "cell_type": "code",
   "execution_count": null,
   "metadata": {},
   "outputs": [],
   "source": [
    "df.shape # checking the size of the rows. "
   ]
  },
  {
   "cell_type": "code",
   "execution_count": null,
   "metadata": {},
   "outputs": [],
   "source": [
    "df.columns #Double check all the columns"
   ]
  },
  {
   "cell_type": "code",
   "execution_count": null,
   "metadata": {},
   "outputs": [],
   "source": [
    "unique_values = df.apply(lambda x: x.unique()) # Checking the unique values for each column\n",
    "print(unique_values)"
   ]
  },
  {
   "attachments": {},
   "cell_type": "markdown",
   "metadata": {},
   "source": [
    "## Data Preprocessing"
   ]
  },
  {
   "attachments": {},
   "cell_type": "markdown",
   "metadata": {},
   "source": [
    "Changing Data Type of 'Peperator Age' from Object to Numeric Vlaues\n"
   ]
  },
  {
   "cell_type": "code",
   "execution_count": null,
   "metadata": {},
   "outputs": [],
   "source": [
    "df.dtypes #checking the types, \"Peperator age = Object\" need to change it to int value"
   ]
  },
  {
   "cell_type": "code",
   "execution_count": null,
   "metadata": {},
   "outputs": [],
   "source": [
    "#Tried to use astype method to change data type from object to int didn’t work.\n",
    "df['Perpetrator Age'] = pd.to_numeric(df['Perpetrator Age'], errors='coerce') #  Used new method\n",
    "df['Victim Age'] = df['Victim Age'].astype(float) #convereted both data types to float\n",
    "df.dtypes"
   ]
  },
  {
   "attachments": {},
   "cell_type": "markdown",
   "metadata": {},
   "source": [
    "Checking if there are Null Values in the Data Set & Correcting it"
   ]
  },
  {
   "cell_type": "code",
   "execution_count": null,
   "metadata": {},
   "outputs": [],
   "source": [
    "df.isnull().sum().sum() \n",
    "\n",
    "# one null value"
   ]
  },
  {
   "cell_type": "code",
   "execution_count": null,
   "metadata": {},
   "outputs": [],
   "source": [
    "#locating where the null value is\n",
    "\n",
    "null_columns = df.columns[df.isnull().any()]\n",
    "print(null_columns)"
   ]
  },
  {
   "cell_type": "code",
   "execution_count": null,
   "metadata": {},
   "outputs": [],
   "source": [
    "#removing null values\n",
    "\n",
    "df = df.dropna()\n"
   ]
  },
  {
   "cell_type": "code",
   "execution_count": null,
   "metadata": {},
   "outputs": [],
   "source": [
    "df.isnull().sum().sum()  \n",
    "\n",
    "#Double checking if null value == 0\n"
   ]
  },
  {
   "attachments": {},
   "cell_type": "markdown",
   "metadata": {},
   "source": [
    "Incorrect Data Values in 'Victim Age' and Removing The Incorrect Rows"
   ]
  },
  {
   "cell_type": "code",
   "execution_count": null,
   "metadata": {},
   "outputs": [],
   "source": [
    "#'Victim Age' data incorrect. \n",
    "counts = df.groupby('Victim Age').size()\n",
    "counts # 99 = 9281 & 998 = 974. Both values are irragular."
   ]
  },
  {
   "cell_type": "code",
   "execution_count": null,
   "metadata": {},
   "outputs": [],
   "source": [
    "df = df.loc[~df['Victim Age'].isin([998, 99])]"
   ]
  },
  {
   "cell_type": "code",
   "execution_count": null,
   "metadata": {},
   "outputs": [],
   "source": [
    "counts = df.groupby('Victim Age').size()\n",
    "counts #checking if the data rows have been removed"
   ]
  },
  {
   "attachments": {},
   "cell_type": "markdown",
   "metadata": {},
   "source": [
    "Dropping Columns Which are Irrelevant in The Data Frame\n"
   ]
  },
  {
   "cell_type": "code",
   "execution_count": null,
   "metadata": {},
   "outputs": [],
   "source": [
    "#removing unwanted columns\n",
    "\n",
    "df.drop(['Agency Code', 'Record ID', 'Record Source'], axis = 1, inplace=True)\n",
    "df.head()"
   ]
  },
  {
   "attachments": {},
   "cell_type": "markdown",
   "metadata": {},
   "source": [
    "Arranging Data Frame Attributes Correctly"
   ]
  },
  {
   "cell_type": "code",
   "execution_count": null,
   "metadata": {},
   "outputs": [],
   "source": [
    "# indexing the columns for easy analyzing based on my preference\n",
    "\n",
    "df = df.reindex(columns=['Year', 'Month', 'City', 'Agency Type', 'Agency Name', 'Crime Type', 'Crime Solved', 'Victim Sex', 'Victim Age', 'Victim Race', 'Victim Ethnicity', 'Victim Count', 'Perpetrator Sex', 'Perpetrator Age', 'Perpetrator Race', 'Perpetrator Ethnicity', 'Perpetrator Count', 'Weapon', 'Relationship'])\n",
    "df.head()"
   ]
  },
  {
   "attachments": {},
   "cell_type": "markdown",
   "metadata": {},
   "source": [
    "New Measurement to Calculate the Age Difference between 'Victim Age & Perpretor Age'\n"
   ]
  },
  {
   "cell_type": "code",
   "execution_count": null,
   "metadata": {},
   "outputs": [],
   "source": [
    "#creating a new column 'Victim and Pepreator Age Difference\n",
    "\n",
    "def age_difference(row):\n",
    "    return row['Victim Age'] - row['Perpetrator Age']\n",
    "\n",
    "df['age_difference'] = df.apply(age_difference, axis=1)\n",
    "\n",
    "df.head()"
   ]
  },
  {
   "cell_type": "code",
   "execution_count": null,
   "metadata": {},
   "outputs": [],
   "source": [
    "df['age_difference'] = df['age_difference'].apply(abs) #making it absoulute values\n",
    "df.head()"
   ]
  },
  {
   "cell_type": "code",
   "execution_count": null,
   "metadata": {},
   "outputs": [],
   "source": [
    "df['age_difference'] = df['age_difference'].apply(lambda x: '{:.0f}'.format(x)) #Remove the decimal values, so the data looks clean\n",
    "df.head()"
   ]
  },
  {
   "cell_type": "code",
   "execution_count": null,
   "metadata": {},
   "outputs": [],
   "source": [
    "# Rename the column 'age_difference' to 'Age Difference'. So the final data frame looks clean\n",
    "\n",
    "df = df.rename(columns={'age_difference': 'Age Difference'})\n",
    "df.head()"
   ]
  },
  {
   "attachments": {},
   "cell_type": "markdown",
   "metadata": {},
   "source": [
    "## Histogram on Victim Age Perpetrator Age\n",
    "\n",
    "Visualizing Victim age and Perpetrator age vs number of murders to see if there is a difference."
   ]
  },
  {
   "cell_type": "code",
   "execution_count": null,
   "metadata": {},
   "outputs": [],
   "source": [
    "fig = px.histogram(df,\n",
    "                   x='Victim Age',\n",
    "                   nbins=10,          # Created 10 bins to represent 10 year bins.\n",
    "                   color = 'Victim Sex', \n",
    "                   title='Victim Murder Count by Age Group', \n",
    "                   template=\"plotly_dark\")\n",
    "# Update the y-axis label\n",
    "fig.update_layout(yaxis_title=\"Number of Murders\")\n",
    "fig.show()"
   ]
  },
  {
   "attachments": {},
   "cell_type": "markdown",
   "metadata": {},
   "source": [
    "175,000 victims are male and in the age group of 20 to 29"
   ]
  },
  {
   "cell_type": "code",
   "execution_count": null,
   "metadata": {},
   "outputs": [],
   "source": [
    "# Histogram on Murder count by age group for perpetrators\n",
    "fig = px.histogram(df,\n",
    "                   x='Perpetrator Age', \n",
    "                   nbins=10,  #creating bins for the age by 10 years\n",
    "                   color = 'Perpetrator Sex', \n",
    "                   title='Perpetrator Murder Count by Age Group', \n",
    "                   template=\"plotly_dark\")\n",
    "#adding annontation\n",
    "annotation = {'x': 5, 'y': 150000, 'showarrow': True, 'arrowhead': 4, 'font': {'color': 'white'}, 'text': 'Over 185,000 Unknown Perpetrators'} \n",
    "fig.update_layout({'annotations': [annotation]})\n",
    "fig.update_layout(yaxis_title=\"Number of Murders\") #update y axis title\n",
    "fig.show()"
   ]
  },
  {
   "attachments": {},
   "cell_type": "markdown",
   "metadata": {},
   "source": [
    "Over 184,000 murders have been committed by unknown perpetrators. Therefore, these are unknown killers who cannot be identified and may or may not have been prosecuted."
   ]
  },
  {
   "attachments": {},
   "cell_type": "markdown",
   "metadata": {},
   "source": [
    "# Sunburst Chart on Victim and Perpetrator Race and Weapon Type\n",
    "Identifying patterns in racial killings among whites and blacks, including the most commonly used weapons by perpetrators. (Sunburst Chart)"
   ]
  },
  {
   "cell_type": "code",
   "execution_count": null,
   "metadata": {},
   "outputs": [],
   "source": [
    "labels = ['Victim Race', 'Perpetrator Race', 'Weapon'] #creating labels list\n",
    "fig = px.sunburst(df, \n",
    "                  path=labels, \n",
    "                  values='Victim Count',\n",
    "                  title='Examining the Impact of Race on Victims and Perpetrator Race in Violent Incidents Involving Weapon Use', \n",
    "                  template=\"plotly_dark\")\n",
    "fig.update_traces(textinfo='label+value', insidetextorientation='radial')\n",
    "fig.show()"
   ]
  },
  {
   "attachments": {},
   "cell_type": "markdown",
   "metadata": {},
   "source": [
    "Of the victims, 64% are white, and of the perpetrators, 67% are white. Most of the killings were committed using handguns.\n",
    "Of the 25742 black victims, the perpetrators in 15450 of these incidents used handguns to kill.\n",
    "\n",
    "Based on the above visualization, the crimes commited are not racial killings. However, 'Handguns' are used to commite most of the crimes."
   ]
  },
  {
   "attachments": {},
   "cell_type": "markdown",
   "metadata": {},
   "source": [
    "Visualizing the deaths of victims by year and month to see if there is a pattern in the months when killings occur.\n"
   ]
  },
  {
   "cell_type": "code",
   "execution_count": null,
   "metadata": {},
   "outputs": [],
   "source": [
    "fig = px.histogram(data_frame=df, x='Year', y = 'Victim Count', color='Month', nbins = 20, template=\"plotly_dark\")\n",
    "fig.update_layout(bargap=0.1) # creating a gap between bins\n",
    "high_victims_april = {'x': 1995, 'y': 2000, 'showarrow': True, 'arrowhead': 4, 'font': {'color': 'white'}, 'text': 'High Victim Counts'}\n",
    "fig.update_layout({'annotations': [high_victims_april]}) #adding annontation\n",
    "fig.update_layout(yaxis_title=\"Victim Count\") #update y axis title\n",
    "fig.show()"
   ]
  },
  {
   "attachments": {},
   "cell_type": "markdown",
   "metadata": {},
   "source": [
    "There is a huge number of deaths in April 1995 and analyze what the reason is.\n"
   ]
  },
  {
   "cell_type": "code",
   "execution_count": null,
   "metadata": {},
   "outputs": [],
   "source": [
    "#create new data frame that includes for the period Year is 1995 and Month is April\n",
    "df_1995_april = df[(df['Year'] == 1995) & (df['Month'] == 'April')]\n",
    "df_1995_april.head()\n"
   ]
  },
  {
   "attachments": {},
   "cell_type": "markdown",
   "metadata": {},
   "source": [
    "Scatter Plot to see what Weapon type caused such a spike during the period\n"
   ]
  },
  {
   "cell_type": "code",
   "execution_count": null,
   "metadata": {},
   "outputs": [],
   "source": [
    "fig = px.scatter(df_1995_april, x='Victim Age', y= 'Perpetrator Age', color='Weapon', size='Victim Count', template=\"plotly_dark\")\n",
    "fig.show()"
   ]
  },
  {
   "cell_type": "code",
   "execution_count": null,
   "metadata": {},
   "outputs": [],
   "source": [
    "df_1995_april_explosives = df_1995_april[(df_1995_april['Weapon'] == 'Explosives')] #filtering values which are explosives under weapon\n",
    "df_1995_april_explosives.head()"
   ]
  },
  {
   "attachments": {},
   "cell_type": "markdown",
   "metadata": {},
   "source": [
    "A large number victims were caused by explosions and the age of the perperator is a 27 yar old Male and White in race who carried out this explosion.\n",
    "\n",
    "Upon further investigation this was the 'Okahoma City Bombing' on Google search engine\n",
    "\n",
    "https://www.fbi.gov/history/famous-cases/oklahoma-city-bombing"
   ]
  },
  {
   "cell_type": "code",
   "execution_count": null,
   "metadata": {},
   "outputs": [],
   "source": [
    "fig = px.scatter(df, x='Victim Count', y= 'Perpetrator Count', color='Weapon', size='Victim Count', hover_data=['City'], template=\"plotly_dark\")\n",
    "high_victims = {'x': 10, 'y': 2, 'showarrow': True, 'arrowhead': 4, 'font': {'color': 'white'}, 'text': 'High Victim Counts due to Explosions'}\n",
    "fig.update_layout({'annotations': [high_victims]})\n",
    "fig.show()"
   ]
  },
  {
   "attachments": {},
   "cell_type": "markdown",
   "metadata": {},
   "source": [
    "Bar Plot on Victim Age, Perpetrator Age"
   ]
  },
  {
   "cell_type": "code",
   "execution_count": null,
   "metadata": {},
   "outputs": [],
   "source": [
    "fig = px.box(data_frame=df, y='Perpetrator Age', color='Weapon', title='Perpetrator Age against Weapon Type',template=\"plotly_dark\") #creating a box plot fpr perptrator age\n",
    "fig.show()"
   ]
  },
  {
   "cell_type": "code",
   "execution_count": null,
   "metadata": {},
   "outputs": [],
   "source": [
    "fig = px.box(data_frame=df, y='Victim Age', color='Weapon', title='Vistim Age against Weapon Type', template=\"plotly_dark\") #creating a box plot fpr victim age\n",
    "fig.show()"
   ]
  },
  {
   "attachments": {},
   "cell_type": "markdown",
   "metadata": {},
   "source": [
    "Crime Solved Against Victim Race (Bar Plot )\n",
    "\n"
   ]
  },
  {
   "cell_type": "code",
   "execution_count": null,
   "metadata": {},
   "outputs": [],
   "source": [
    "fig = go.Figure()\n",
    "fig = px.histogram(data_frame=df, x='Victim Race', color='Crime Solved', title='Crimes Solved by Victim Race', template=\"plotly_dark\") #creating histogram for unsloved cases by race\n",
    "fig.show()"
   ]
  },
  {
   "attachments": {},
   "cell_type": "markdown",
   "metadata": {},
   "source": [
    "We see that there is a high number in Black unsolved cases followed by white unsolved cases. Is this due to a racial reason?"
   ]
  },
  {
   "cell_type": "code",
   "execution_count": null,
   "metadata": {},
   "outputs": [],
   "source": [
    "fig = px.scatter(df, x='Victim Age', y= 'Perpetrator Age', color='Crime Solved', template = 'plotly_dark')\n",
    "layout = go.Layout(\n",
    "# Add a square shape around the area of the chart for high unsolved cases\n",
    "    shapes=[\n",
    "        {\n",
    "            'type': 'rect',\n",
    "            'x0': 14,\n",
    "            'y0': 9,\n",
    "            'x1': 32,\n",
    "            'y1': 37,\n",
    "            'line': {\n",
    "                'color': 'white',\n",
    "                'width': 3\n",
    "            }\n",
    "        }\n",
    "    ]\n",
    ")\n",
    "fig.update_layout(layout)\n",
    "fig.show()"
   ]
  },
  {
   "attachments": {},
   "cell_type": "markdown",
   "metadata": {},
   "source": [
    "High number of unsoved cases Victims between 16 to 30 and the peprators between 18 to 30 years in age."
   ]
  },
  {
   "cell_type": "code",
   "execution_count": null,
   "metadata": {},
   "outputs": [],
   "source": [
    "df_victims_16_30 = df.loc[(df['Victim Age'] >= 16) & (df['Victim Age'] <= 30) & (df['Crime Solved'] == 'No')] # creating a data frame as per the victime age between 16 to 30\n",
    "df_victims_16_30.head()"
   ]
  },
  {
   "attachments": {},
   "cell_type": "markdown",
   "metadata": {},
   "source": [
    "Creating a heatmap to visualize what weapon type caused a high rate in unsolved crime rate. Does the weapon type play a role in unsolving crimes."
   ]
  },
  {
   "cell_type": "code",
   "execution_count": null,
   "metadata": {},
   "outputs": [],
   "source": [
    "# heat map for for the subset data frame to visualize the type of weapn across the years.\n",
    "fig = px.density_heatmap(df_victims_16_30, \n",
    "                         x=\"Year\", \n",
    "                         y=\"Weapon\",\n",
    "                         marginal_x=\"histogram\", \n",
    "                         marginal_y=\"histogram\", \n",
    "                         title='Heat Map of Weapon type used through the Years', \n",
    "                         template=\"plotly_dark\")\n",
    "fig.show()"
   ]
  },
  {
   "attachments": {},
   "cell_type": "markdown",
   "metadata": {},
   "source": [
    "A high number of murders in the year 1993 with the use of handguns.\n"
   ]
  },
  {
   "cell_type": "code",
   "execution_count": null,
   "metadata": {},
   "outputs": [],
   "source": [
    "fig = px.density_heatmap(df_victims_16_30, \n",
    "                         x=\"Perpetrator Sex\", \n",
    "                         y=\"Weapon\", \n",
    "                         facet_row=\"Crime Solved\", \n",
    "                         title='Weapon Type vs Sex of Preptrator', \n",
    "                         template=\"plotly_dark\")\n",
    "fig.show()"
   ]
  },
  {
   "cell_type": "code",
   "execution_count": null,
   "metadata": {},
   "outputs": [],
   "source": [
    "fig = px.density_heatmap(df_victims_16_30, \n",
    "                         x=\"Perpetrator Sex\", \n",
    "                         y=\"Weapon\", \n",
    "                         facet_row=\"Victim Sex\", \n",
    "                         facet_col=\"Month\", \n",
    "                         template=\"plotly_dark\")\n",
    "fig.show()"
   ]
  },
  {
   "attachments": {},
   "cell_type": "markdown",
   "metadata": {},
   "source": [
    "## Checking Why These murders are not solvable"
   ]
  },
  {
   "cell_type": "code",
   "execution_count": null,
   "metadata": {},
   "outputs": [],
   "source": [
    "victim_trace = go.Histogram(x=df['Victim Age'], name='Victim Ages')\n",
    "\n",
    "# Trace for the perpetrator ages\n",
    "perpetrator_trace = go.Histogram(x=df['Perpetrator Age'], name='Perpetrator Ages')\n",
    "\n",
    "# figure with both histogram traces\n",
    "fig = go.Figure(data=[victim_trace, perpetrator_trace],\n",
    "                layout=go.Layout(barmode='stack'))\n",
    "#adding anontation\n",
    "high_perpetrator_age = {'x': 0, 'y': 210000, 'showarrow': True, 'arrowhead': 4, 'font': {'color': 'white'}, 'text': 'High Perpetrator Age Count'}\n",
    "fig.update_layout({'annotations': [high_perpetrator_age]})\n",
    "fig.update_layout(template='plotly_dark')\n",
    "\n",
    "\n",
    "fig.show()"
   ]
  },
  {
   "attachments": {},
   "cell_type": "markdown",
   "metadata": {},
   "source": [
    "Perperater value being 0 there is a high value. These values are quite large and there is no reason why "
   ]
  },
  {
   "cell_type": "code",
   "execution_count": null,
   "metadata": {},
   "outputs": [],
   "source": [
    "df_Perperater_0 = df.loc[df['Perpetrator Age'] == 0]\n",
    "df_Perperater_0.head()"
   ]
  },
  {
   "cell_type": "code",
   "execution_count": null,
   "metadata": {},
   "outputs": [],
   "source": [
    "fig = px.sunburst(df_Perperater_0, path=['Perpetrator Race', 'Perpetrator Ethnicity'], values = 'Perpetrator Count', template=\"plotly_dark\")\n",
    "fig.show()"
   ]
  },
  {
   "cell_type": "code",
   "execution_count": null,
   "metadata": {},
   "outputs": [],
   "source": [
    "df_filtered = df[df['Relationship'].isin(['Wife', 'Brother', 'Husband', 'Sister', 'Family','Father', 'Son', 'Mother','Daughter'])]\n",
    "fig = px.scatter(df_filtered, x='Victim Age', \n",
    "                 y= 'Perpetrator Age', \n",
    "                 color='Relationship', \n",
    "                 size = 'Victim Count', \n",
    "                 template=\"plotly_dark\",\n",
    "                 title = 'Relationship among Immediate family Members between 1980 to 2014',\n",
    "                 animation_frame = 'Year',\n",
    "                 log_x=True,\n",
    "                 log_y=True,\n",
    "                 size_max=100,\n",
    "                 )\n",
    "fig.show()"
   ]
  },
  {
   "attachments": {},
   "cell_type": "markdown",
   "metadata": {},
   "source": [
    "## Checking if there is a correlation among the attributes"
   ]
  },
  {
   "cell_type": "code",
   "execution_count": null,
   "metadata": {},
   "outputs": [],
   "source": [
    "import plotly.graph_objects as go\n",
    "import pandas as pd\n",
    "import numpy as np\n",
    "\n",
    "# Assuming 'df' is your DataFrame\n",
    "# Select only numeric columns for correlation\n",
    "numeric_df = df.select_dtypes(include=[np.number])\n",
    "\n",
    "# Create a correlation matrix\n",
    "correlation = numeric_df.corr(method='pearson')\n",
    "\n",
    "# Set up the correlation plot\n",
    "fig = go.Figure(go.Heatmap(\n",
    "    z=correlation.values,\n",
    "    x=correlation.columns,\n",
    "    y=correlation.columns,\n",
    "    colorscale='rainbow', \n",
    "    zmin=-1, zmax=1))\n",
    "\n",
    "fig.update_layout(template='plotly_dark')\n",
    "\n",
    "# Show the plot\n",
    "fig.show()\n"
   ]
  },
  {
   "attachments": {},
   "cell_type": "markdown",
   "metadata": {},
   "source": [
    "creating a scatter plot based on the above metnioned corelation"
   ]
  },
  {
   "cell_type": "code",
   "execution_count": null,
   "metadata": {},
   "outputs": [],
   "source": [
    "fig = px.scatter(data_frame=df,x='Victim Age',y='Perpetrator Age',color='Crime Solved', template=\"plotly_dark\")\n",
    "fig.show()\n"
   ]
  },
  {
   "attachments": {},
   "cell_type": "markdown",
   "metadata": {},
   "source": [
    "Based on the above visulalization, many unsolved cases are between 16 to 30 age groups"
   ]
  },
  {
   "cell_type": "code",
   "execution_count": null,
   "metadata": {},
   "outputs": [],
   "source": [
    "fig = px.scatter(data_frame=df,x='Victim Count',y='Perpetrator Count',color='Crime Solved', template=\"plotly_dark\")\n",
    "fig.show()\n"
   ]
  },
  {
   "attachments": {},
   "cell_type": "markdown",
   "metadata": {},
   "source": [
    "Identfying Trends in weapon type used by perpetrators"
   ]
  },
  {
   "cell_type": "code",
   "execution_count": null,
   "metadata": {},
   "outputs": [],
   "source": [
    "fig = go.Figure()\n",
    "df_filtered = df[df['Weapon'].isin(['Poison', 'Drowning'])]\n",
    "fig = px.scatter(df_filtered, \n",
    "                 x='Victim Age', \n",
    "                 y= 'Perpetrator Age', \n",
    "                 color='Year', \n",
    "                 size='Victim Count', \n",
    "                 animation_frame='Weapon', \n",
    "                 hover_data=['Relationship', 'Month'], \n",
    "                 title='Trends in Poison and Drowning Homicides Over the Years')\n",
    "fig.update_layout(template='plotly_dark')\n",
    "fig.show()"
   ]
  },
  {
   "cell_type": "code",
   "execution_count": null,
   "metadata": {},
   "outputs": [],
   "source": [
    "fig = px.scatter(df, x='Perpetrator Age',\n",
    "                 y='Age Difference', \n",
    "                 color='Crime Solved', \n",
    "                 size='Victim Count', \n",
    "                 template=\"plotly_dark\",\n",
    "                 title = 'Assessing the Age Gap Between Perpetrators and Victims in Homicide Cases')\n",
    "\n",
    "# Add button to filter data by whether the crime was solved or not\n",
    "fig.update_layout(updatemenus=[dict(buttons=list([\n",
    "    dict(label='All',\n",
    "         method='update',\n",
    "         args=[{'visible': [True, True, True, True, True, True, True]},\n",
    "               {'title': 'Victim Age vs Perpetrator Age'}]),\n",
    "    dict(label='Yes',\n",
    "         method='update',\n",
    "         args=[{'visible': [True, False, True, True, False, False, True]},\n",
    "               {'title': 'Victim Age vs Perpetrator Age (Crime Solved = Yes)'}]),\n",
    "    dict(label='No',\n",
    "         method='update',\n",
    "         args=[{'visible': [False, True, False, False, True, True, False]},\n",
    "               {'title': 'Victim Age vs Perpetrator Age (Crime Solved = No)'}])\n",
    "]))])\n",
    "fig.show()"
   ]
  },
  {
   "attachments": {},
   "cell_type": "markdown",
   "metadata": {},
   "source": [
    "There are no known perpetrators above the age 58 to 98 years. \n"
   ]
  }
 ],
 "metadata": {
  "kernelspec": {
   "display_name": "base",
   "language": "python",
   "name": "python3"
  },
  "language_info": {
   "codemirror_mode": {
    "name": "ipython",
    "version": 3
   },
   "file_extension": ".py",
   "mimetype": "text/x-python",
   "name": "python",
   "nbconvert_exporter": "python",
   "pygments_lexer": "ipython3",
   "version": "3.11.4"
  },
  "orig_nbformat": 4,
  "vscode": {
   "interpreter": {
    "hash": "6f5583cf1d9466b5c27e75c89cc6b383bed5736d6b16c51c8074d8690011a952"
   }
  }
 },
 "nbformat": 4,
 "nbformat_minor": 2
}
